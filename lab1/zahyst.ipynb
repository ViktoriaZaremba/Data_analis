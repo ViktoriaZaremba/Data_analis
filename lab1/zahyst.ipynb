{
 "cells": [
  {
   "cell_type": "code",
   "execution_count": 1,
   "metadata": {
    "collapsed": true
   },
   "outputs": [],
   "source": [
    "import pandas as pd\n",
    "import matplotlib.pyplot as plt\n",
    "import numpy as np\n",
    "import seaborn as sns"
   ]
  },
  {
   "cell_type": "code",
   "execution_count": 2,
   "outputs": [],
   "source": [
    "data = pd.read_csv(\"DATABASE.csv\", sep = ';', decimal=',')\n",
    "data = data.rename(columns={\"day/month\": \"Date\"})"
   ],
   "metadata": {
    "collapsed": false,
    "pycharm": {
     "name": "#%%\n"
    }
   }
  },
  {
   "cell_type": "code",
   "execution_count": 3,
   "outputs": [],
   "source": [
    "def pars(data, colums):\n",
    "    data['Date'] = pd.to_datetime(data[\"Date\"] + \".2019\")\n",
    "    data['Time'] = pd.to_datetime(data['Time']).dt.strftime('%H:%M')\n",
    "    data['Pressure'] = data['Pressure'].astype(float)\n",
    "    for c in colums:\n",
    "        data[c] = data[c].map(lambda x: x.strip(' mph%'))\n",
    "        data[c] =data[c].astype(int)\n",
    "    data.set_index('Date')"
   ],
   "metadata": {
    "collapsed": false,
    "pycharm": {
     "name": "#%%\n"
    }
   }
  },
  {
   "cell_type": "code",
   "execution_count": 4,
   "outputs": [],
   "source": [
    "colums = ['Wind Speed', 'Wind Gust','Humidity']\n",
    "pars(data, colums)"
   ],
   "metadata": {
    "collapsed": false,
    "pycharm": {
     "name": "#%%\n"
    }
   }
  },
  {
   "cell_type": "code",
   "execution_count": 5,
   "outputs": [
    {
     "data": {
      "text/plain": "Date            datetime64[ns]\nTime                    object\nTemperature              int64\nDew Point                int64\nHumidity                 int64\nWind                    object\nWind Speed               int64\nWind Gust                int64\nPressure               float64\nPrecip.                  int64\nPrecip Accum             int64\nCondition               object\ndtype: object"
     },
     "execution_count": 5,
     "metadata": {},
     "output_type": "execute_result"
    }
   ],
   "source": [
    "data.dtypes"
   ],
   "metadata": {
    "collapsed": false,
    "pycharm": {
     "name": "#%%\n"
    }
   }
  },
  {
   "cell_type": "code",
   "execution_count": 6,
   "outputs": [],
   "source": [
    "def dia_scat(data, datalist):\n",
    "    if len(datalist) == 2:\n",
    "        fig, ax = plt.subplots()\n",
    "        ax.set_xlabel(datalist[0])\n",
    "        ax.set_ylabel(datalist[1])\n",
    "        ax.set_title('Точкова діаграма\\n' + datalist[0] + ' - ' + datalist[1])\n",
    "        ax.scatter(data[datalist[0]], data[datalist[1]])\n",
    "    elif len(datalist) == 3:\n",
    "        if data[datalist[2]].dtype == object:\n",
    "            sns.scatterplot(x=data[datalist[0]], y=data[datalist[1]], alpha=0.5, hue=data[datalist[2]])\n",
    "        else:\n",
    "            sns.scatterplot(x=data[datalist[0]], y=data[datalist[1]], size=data[datalist[2]])\n",
    "    elif len(datalist) == 4:\n",
    "        if data[datalist[2]].dtype == object:\n",
    "            sns.scatterplot(x=data[datalist[0]], y=data[datalist[1]], alpha=0.5, hue=data[datalist[2]], size=data[datalist[3]])\n",
    "        else:\n",
    "            sns.scatterplot(x=data[datalist[0]], y=data[datalist[1]], size=data[datalist[2]], alpha=0.5, hue=data[datalist[3]])\n",
    "    plt.legend(title='Точкова діаграма', bbox_to_anchor=(1.05, 1), loc='upper left', ncol = 2)\n",
    "    plt.title('Scatter plot')\n",
    "    plt.show()"
   ],
   "metadata": {
    "collapsed": false,
    "pycharm": {
     "name": "#%%\n"
    }
   }
  },
  {
   "cell_type": "code",
   "execution_count": 7,
   "outputs": [],
   "source": [
    "def dia_plotbar(data, datalist, c):\n",
    "    if c == 'no':\n",
    "        if len(datalist) == 1:\n",
    "            plt.hist(data[datalist[0]])\n",
    "            plt.title('Histogram ' + datalist[0])\n",
    "        else:\n",
    "            vol = data[datalist]\n",
    "            vol.plot.bar(colormap = 'plasma')\n",
    "            plt.title('Histogram ' + datalist[0] + ' ' + datalist[1])\n",
    "    else:\n",
    "        if len(datalist) == 1:\n",
    "            plt.hist(data[datalist[0]])\n",
    "            plt.title('Histogram ' + datalist[0])\n",
    "        else:\n",
    "            vol = data.groupby('Date').agg(dict.fromkeys(datalist, c))\n",
    "            vol.plot.bar(colormap = 'plasma')\n",
    "            plt.title('Histogram' + datalist[0] +  ' ' + datalist[1])\n",
    "    plt.legend(title='Plotbar', bbox_to_anchor=(1.05, 1), loc='upper left')\n",
    "    plt.tick_params(labelrotation = 45)\n",
    "    plt.show()"
   ],
   "metadata": {
    "collapsed": false,
    "pycharm": {
     "name": "#%%\n"
    }
   }
  },
  {
   "cell_type": "code",
   "execution_count": 8,
   "outputs": [],
   "source": [
    "def dia_spaghetti(data, datalist, c):\n",
    "    vol = data.groupby('Date').agg(dict.fromkeys(datalist, c))\n",
    "    plt.style.use('seaborn-darkgrid')\n",
    "    palette = plt.get_cmap('Set1')\n",
    "    num = 0\n",
    "    for column in vol:\n",
    "        num += 1\n",
    "        plt.plot(vol.index, vol[column], marker='', color=palette(num), label=column)\n",
    "    plt.legend(title='Spaghetti', bbox_to_anchor=(1.05, 1), loc='upper left')\n",
    "    plt.title('Spagetti')\n",
    "    plt.xlabel('Date')\n",
    "    plt.ylabel('Value')\n",
    "    plt.tick_params(labelrotation = 45)\n",
    "    plt.show()"
   ],
   "metadata": {
    "collapsed": false,
    "pycharm": {
     "name": "#%%\n"
    }
   }
  },
  {
   "cell_type": "code",
   "execution_count": 9,
   "outputs": [],
   "source": [
    "def dia_pie(data, datalist):\n",
    "    if data[datalist[0]].dtype != object or len(datalist) != 1:\n",
    "        print('Incorrect data. Please, print just one object-type column')\n",
    "        c = str(input())\n",
    "        dia_pie(c)\n",
    "    else:\n",
    "        cond = data.groupby(datalist[0]).agg(dict.fromkeys(datalist, 'count'))\n",
    "        cond.plot.pie(y='Condition', figsize=(10, 10))\n",
    "        plt.title('Pie')\n",
    "        plt.legend(title='Pie', bbox_to_anchor=(1.05, 1), loc='upper left')\n",
    "        plt.show()"
   ],
   "metadata": {
    "collapsed": false,
    "pycharm": {
     "name": "#%%\n"
    }
   }
  },
  {
   "cell_type": "code",
   "execution_count": 10,
   "outputs": [],
   "source": [
    "def dia_box(data, datalist, c):\n",
    "    if len(datalist) == 2:\n",
    "        if c == 'no':\n",
    "            sns.boxplot(x = data[datalist[0]], y = data[datalist[1]], palette = 'flare')\n",
    "        else:\n",
    "            vol = data.groupby('Date').agg(dict.fromkeys(datalist, c))\n",
    "            sns.boxplot(x = vol[datalist[0]], y = vol[datalist[1]], palette = 'flare')\n",
    "    else:\n",
    "        print('Incorrect data')\n",
    "    plt.title('Poxplot')\n",
    "    plt.show()"
   ],
   "metadata": {
    "collapsed": false,
    "pycharm": {
     "name": "#%%\n"
    }
   }
  },
  {
   "cell_type": "code",
   "execution_count": 11,
   "outputs": [],
   "source": [
    "def dia_choose(a):\n",
    "    print('Columns:')\n",
    "    for col in data.columns:\n",
    "        print(col, end=', ')\n",
    "    b = list(map(str, input(\"\\nEnter columns: \").strip().split()))\n",
    "    if a == 1:\n",
    "        print(\"Do you want to group data by date?\\n If yes, print 'min', 'max' or 'mean'. \\nIf not print 'no'\")\n",
    "        c = str(input())\n",
    "        try:\n",
    "            dia_plotbar(b, c)\n",
    "        except KeyError:\n",
    "            print('Input data is incorrect. Please, try againe: ')\n",
    "            b = list(map(str, input(\"\\nEnter columns: \").strip().split()))\n",
    "            print(\"Do you want to group data by date?\\n If yes, print 'min', 'max' or 'mean'. \\nIf not print 'no'\")\n",
    "            c = str(input())\n",
    "            dia_plotbar(b, c)\n",
    "    elif a == 2:\n",
    "        try:\n",
    "            dia_pie(b)\n",
    "        except KeyError:\n",
    "            print('Input data is incorrect. Please, try againe: ')\n",
    "            b = list(map(str, input(\"\\nEnter columns: \").strip().split()))\n",
    "            dia_pie(b)\n",
    "    elif a == 3:\n",
    "        try:\n",
    "            dia_scat(b)\n",
    "        except KeyError:\n",
    "            print('Input data is incorrect. Please, try againe: ')\n",
    "            b = list(map(str, input(\"\\nEnter columns: \").strip().split()))\n",
    "            dia_scat(b)\n",
    "    elif a == 4:\n",
    "        print(\"Do you want to group data by date?\\n If yes, print 'min', 'max' or 'mean'. \\nIf not print 'no'\")\n",
    "        c = str(input())\n",
    "        try:\n",
    "            dia_box(b, c)\n",
    "        except KeyError:\n",
    "            print('Input data is incorrect. Please, try againe: ')\n",
    "            b = list(map(str, input(\"\\nEnter columns: \").strip().split()))\n",
    "            print(\"Do you want to group data by date?\\n If yes, print 'min', 'max' or 'mean'. \\nIf not print 'no'\")\n",
    "            c = str(input())\n",
    "            dia_box(b, c)\n",
    "    elif a == 5:\n",
    "        print(\"Do you want to group data by date?\\n If yes, print 'min', 'max' or 'mean'. \\nIf not print 'no'\")\n",
    "        c = str(input())\n",
    "        try:\n",
    "            dia_spaghetti(b, c)\n",
    "        except KeyError:\n",
    "            print('Input data is incorrect. Please, try againe: ')\n",
    "            b = list(map(str, input(\"\\nEnter columns: \").strip().split()))\n",
    "            print(\"Do you want to group data by date?\\n If yes, print 'min', 'max' or 'mean'. \\nIf not print 'no'\")\n",
    "            c = str(input())\n",
    "            dia_spaghetti(b, c)"
   ],
   "metadata": {
    "collapsed": false,
    "pycharm": {
     "name": "#%%\n"
    }
   }
  },
  {
   "cell_type": "code",
   "execution_count": 12,
   "outputs": [
    {
     "name": "stdout",
     "output_type": "stream",
     "text": [
      "What diagram would you like to choose?\n",
      " 1 - histagram\n",
      " 2 = pie\n",
      " 3 - scatter or bubble\n",
      " 4 - box\n",
      " 5 - line\n",
      "\n",
      "Columns:\n",
      "Date, Time, Temperature, Dew Point, Humidity, Wind, Wind Speed, Wind Gust, Pressure, Precip., Precip Accum, Condition, Do you want to group data by date?\n",
      " If yes, print 'min', 'max' or 'mean'. \n",
      "If not print 'no'\n"
     ]
    },
    {
     "ename": "TypeError",
     "evalue": "dia_plotbar() missing 1 required positional argument: 'c'",
     "output_type": "error",
     "traceback": [
      "\u001B[0;31m---------------------------------------------------------------------------\u001B[0m",
      "\u001B[0;31mTypeError\u001B[0m                                 Traceback (most recent call last)",
      "\u001B[0;32m<ipython-input-12-72610c0e922e>\u001B[0m in \u001B[0;36m<module>\u001B[0;34m\u001B[0m\n\u001B[1;32m      1\u001B[0m \u001B[0mprint\u001B[0m\u001B[0;34m(\u001B[0m\u001B[0;34m'What diagram would you like to choose?\\n 1 - histagram\\n 2 = pie\\n 3 - scatter or bubble\\n 4 - box\\n 5 - line\\n'\u001B[0m\u001B[0;34m)\u001B[0m\u001B[0;34m\u001B[0m\u001B[0;34m\u001B[0m\u001B[0m\n\u001B[1;32m      2\u001B[0m \u001B[0ma\u001B[0m \u001B[0;34m=\u001B[0m \u001B[0mint\u001B[0m\u001B[0;34m(\u001B[0m\u001B[0minput\u001B[0m\u001B[0;34m(\u001B[0m\u001B[0;34m)\u001B[0m\u001B[0;34m)\u001B[0m\u001B[0;34m\u001B[0m\u001B[0;34m\u001B[0m\u001B[0m\n\u001B[0;32m----> 3\u001B[0;31m \u001B[0mdia_choose\u001B[0m\u001B[0;34m(\u001B[0m\u001B[0ma\u001B[0m\u001B[0;34m)\u001B[0m\u001B[0;34m\u001B[0m\u001B[0;34m\u001B[0m\u001B[0m\n\u001B[0m\u001B[1;32m      4\u001B[0m \u001B[0;34m\u001B[0m\u001B[0m\n",
      "\u001B[0;32m<ipython-input-11-f19c1acf7e7c>\u001B[0m in \u001B[0;36mdia_choose\u001B[0;34m(a)\u001B[0m\n\u001B[1;32m      8\u001B[0m         \u001B[0mc\u001B[0m \u001B[0;34m=\u001B[0m \u001B[0mstr\u001B[0m\u001B[0;34m(\u001B[0m\u001B[0minput\u001B[0m\u001B[0;34m(\u001B[0m\u001B[0;34m)\u001B[0m\u001B[0;34m)\u001B[0m\u001B[0;34m\u001B[0m\u001B[0;34m\u001B[0m\u001B[0m\n\u001B[1;32m      9\u001B[0m         \u001B[0;32mtry\u001B[0m\u001B[0;34m:\u001B[0m\u001B[0;34m\u001B[0m\u001B[0;34m\u001B[0m\u001B[0m\n\u001B[0;32m---> 10\u001B[0;31m             \u001B[0mdia_plotbar\u001B[0m\u001B[0;34m(\u001B[0m\u001B[0mb\u001B[0m\u001B[0;34m,\u001B[0m \u001B[0mc\u001B[0m\u001B[0;34m)\u001B[0m\u001B[0;34m\u001B[0m\u001B[0;34m\u001B[0m\u001B[0m\n\u001B[0m\u001B[1;32m     11\u001B[0m         \u001B[0;32mexcept\u001B[0m \u001B[0mKeyError\u001B[0m\u001B[0;34m:\u001B[0m\u001B[0;34m\u001B[0m\u001B[0;34m\u001B[0m\u001B[0m\n\u001B[1;32m     12\u001B[0m             \u001B[0mprint\u001B[0m\u001B[0;34m(\u001B[0m\u001B[0;34m'Input data is incorrect. Please, try againe: '\u001B[0m\u001B[0;34m)\u001B[0m\u001B[0;34m\u001B[0m\u001B[0;34m\u001B[0m\u001B[0m\n",
      "\u001B[0;31mTypeError\u001B[0m: dia_plotbar() missing 1 required positional argument: 'c'"
     ]
    }
   ],
   "source": [
    "print('What diagram would you like to choose?\\n 1 - histagram\\n 2 = pie\\n 3 - scatter or bubble\\n 4 - box\\n 5 - line\\n')\n",
    "a = int(input())\n",
    "dia_choose(a)"
   ],
   "metadata": {
    "collapsed": false,
    "pycharm": {
     "name": "#%%\n"
    }
   }
  },
  {
   "cell_type": "code",
   "execution_count": null,
   "outputs": [],
   "source": [],
   "metadata": {
    "collapsed": false,
    "pycharm": {
     "name": "#%%\n"
    }
   }
  },
  {
   "cell_type": "code",
   "execution_count": null,
   "outputs": [],
   "source": [
    "a = ['' for i in range(len(data[\"Condition\"].unique()))]\n",
    "a"
   ],
   "metadata": {
    "collapsed": false,
    "pycharm": {
     "name": "#%%\n"
    }
   }
  }
 ],
 "metadata": {
  "kernelspec": {
   "display_name": "Python 3",
   "language": "python",
   "name": "python3"
  },
  "language_info": {
   "codemirror_mode": {
    "name": "ipython",
    "version": 2
   },
   "file_extension": ".py",
   "mimetype": "text/x-python",
   "name": "python",
   "nbconvert_exporter": "python",
   "pygments_lexer": "ipython2",
   "version": "2.7.6"
  }
 },
 "nbformat": 4,
 "nbformat_minor": 0
}