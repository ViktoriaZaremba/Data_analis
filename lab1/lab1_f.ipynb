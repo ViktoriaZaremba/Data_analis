{
 "cells": [
  {
   "cell_type": "code",
   "execution_count": 1,
   "metadata": {
    "collapsed": true
   },
   "outputs": [],
   "source": [
    "import pandas as pd\n",
    "import matplotlib.pyplot as plt\n",
    "import numpy as np"
   ]
  },
  {
   "cell_type": "code",
   "execution_count": 2,
   "outputs": [
    {
     "data": {
      "text/plain": "        Date      Time  Temperature  Dew Point Humidity  Wind Wind Speed  \\\n0     16.Jul  12:20 AM           72         57      60%   VAR     1 mph    \n1     16.Jul  12:50 AM           73         57      57%     W     3 mph    \n2     16.Jul   1:20 AM           75         57      53%  CALM     0 mph    \n3     16.Jul   1:50 AM           72         57      60%  CALM     0 mph    \n4     16.Jul   2:20 AM           72         57      60%  CALM     0 mph    \n...      ...       ...          ...        ...      ...   ...        ...   \n1375  13.Aug   9:50 PM           77         50      39%   VAR     2 mph    \n1376  13.Aug  10:20 PM           77         48      36%   VAR     1 mph    \n1377  13.Aug  10:50 PM           73         50      44%     N    13 mph    \n1378  13.Aug  11:20 PM           73         50      44%     N     7 mph    \n1379  13.Aug  11:50 PM           73         50      44%   NNW     6 mph    \n\n     Wind Gust  Pressure  Precip.  Precip Accum Condition  \n0       0 mph       29.6        0             0      Fair  \n1       0 mph       29.6        0             0      Fair  \n2       0 mph       29.6        0             0      Fair  \n3       0 mph       29.6        0             0      Fair  \n4       0 mph       29.5        0             0      Fair  \n...        ...       ...      ...           ...       ...  \n1375    0 mph       29.6        0             0      Fair  \n1376    0 mph       29.6        0             0      Fair  \n1377    0 mph       29.6        0             0      Fair  \n1378    0 mph       29.6        0             0      Fair  \n1379    0 mph       29.6        0             0      Fair  \n\n[1380 rows x 12 columns]",
      "text/html": "<div>\n<style scoped>\n    .dataframe tbody tr th:only-of-type {\n        vertical-align: middle;\n    }\n\n    .dataframe tbody tr th {\n        vertical-align: top;\n    }\n\n    .dataframe thead th {\n        text-align: right;\n    }\n</style>\n<table border=\"1\" class=\"dataframe\">\n  <thead>\n    <tr style=\"text-align: right;\">\n      <th></th>\n      <th>Date</th>\n      <th>Time</th>\n      <th>Temperature</th>\n      <th>Dew Point</th>\n      <th>Humidity</th>\n      <th>Wind</th>\n      <th>Wind Speed</th>\n      <th>Wind Gust</th>\n      <th>Pressure</th>\n      <th>Precip.</th>\n      <th>Precip Accum</th>\n      <th>Condition</th>\n    </tr>\n  </thead>\n  <tbody>\n    <tr>\n      <th>0</th>\n      <td>16.Jul</td>\n      <td>12:20 AM</td>\n      <td>72</td>\n      <td>57</td>\n      <td>60%</td>\n      <td>VAR</td>\n      <td>1 mph</td>\n      <td>0 mph</td>\n      <td>29.6</td>\n      <td>0</td>\n      <td>0</td>\n      <td>Fair</td>\n    </tr>\n    <tr>\n      <th>1</th>\n      <td>16.Jul</td>\n      <td>12:50 AM</td>\n      <td>73</td>\n      <td>57</td>\n      <td>57%</td>\n      <td>W</td>\n      <td>3 mph</td>\n      <td>0 mph</td>\n      <td>29.6</td>\n      <td>0</td>\n      <td>0</td>\n      <td>Fair</td>\n    </tr>\n    <tr>\n      <th>2</th>\n      <td>16.Jul</td>\n      <td>1:20 AM</td>\n      <td>75</td>\n      <td>57</td>\n      <td>53%</td>\n      <td>CALM</td>\n      <td>0 mph</td>\n      <td>0 mph</td>\n      <td>29.6</td>\n      <td>0</td>\n      <td>0</td>\n      <td>Fair</td>\n    </tr>\n    <tr>\n      <th>3</th>\n      <td>16.Jul</td>\n      <td>1:50 AM</td>\n      <td>72</td>\n      <td>57</td>\n      <td>60%</td>\n      <td>CALM</td>\n      <td>0 mph</td>\n      <td>0 mph</td>\n      <td>29.6</td>\n      <td>0</td>\n      <td>0</td>\n      <td>Fair</td>\n    </tr>\n    <tr>\n      <th>4</th>\n      <td>16.Jul</td>\n      <td>2:20 AM</td>\n      <td>72</td>\n      <td>57</td>\n      <td>60%</td>\n      <td>CALM</td>\n      <td>0 mph</td>\n      <td>0 mph</td>\n      <td>29.5</td>\n      <td>0</td>\n      <td>0</td>\n      <td>Fair</td>\n    </tr>\n    <tr>\n      <th>...</th>\n      <td>...</td>\n      <td>...</td>\n      <td>...</td>\n      <td>...</td>\n      <td>...</td>\n      <td>...</td>\n      <td>...</td>\n      <td>...</td>\n      <td>...</td>\n      <td>...</td>\n      <td>...</td>\n      <td>...</td>\n    </tr>\n    <tr>\n      <th>1375</th>\n      <td>13.Aug</td>\n      <td>9:50 PM</td>\n      <td>77</td>\n      <td>50</td>\n      <td>39%</td>\n      <td>VAR</td>\n      <td>2 mph</td>\n      <td>0 mph</td>\n      <td>29.6</td>\n      <td>0</td>\n      <td>0</td>\n      <td>Fair</td>\n    </tr>\n    <tr>\n      <th>1376</th>\n      <td>13.Aug</td>\n      <td>10:20 PM</td>\n      <td>77</td>\n      <td>48</td>\n      <td>36%</td>\n      <td>VAR</td>\n      <td>1 mph</td>\n      <td>0 mph</td>\n      <td>29.6</td>\n      <td>0</td>\n      <td>0</td>\n      <td>Fair</td>\n    </tr>\n    <tr>\n      <th>1377</th>\n      <td>13.Aug</td>\n      <td>10:50 PM</td>\n      <td>73</td>\n      <td>50</td>\n      <td>44%</td>\n      <td>N</td>\n      <td>13 mph</td>\n      <td>0 mph</td>\n      <td>29.6</td>\n      <td>0</td>\n      <td>0</td>\n      <td>Fair</td>\n    </tr>\n    <tr>\n      <th>1378</th>\n      <td>13.Aug</td>\n      <td>11:20 PM</td>\n      <td>73</td>\n      <td>50</td>\n      <td>44%</td>\n      <td>N</td>\n      <td>7 mph</td>\n      <td>0 mph</td>\n      <td>29.6</td>\n      <td>0</td>\n      <td>0</td>\n      <td>Fair</td>\n    </tr>\n    <tr>\n      <th>1379</th>\n      <td>13.Aug</td>\n      <td>11:50 PM</td>\n      <td>73</td>\n      <td>50</td>\n      <td>44%</td>\n      <td>NNW</td>\n      <td>6 mph</td>\n      <td>0 mph</td>\n      <td>29.6</td>\n      <td>0</td>\n      <td>0</td>\n      <td>Fair</td>\n    </tr>\n  </tbody>\n</table>\n<p>1380 rows × 12 columns</p>\n</div>"
     },
     "execution_count": 2,
     "metadata": {},
     "output_type": "execute_result"
    }
   ],
   "source": [
    "data = pd.read_csv(\"DATABASE.csv\", sep = ';', decimal=',')\n",
    "data = data.rename(columns={\"day/month\": \"Date\"})\n",
    "data\n"
   ],
   "metadata": {
    "collapsed": false,
    "pycharm": {
     "name": "#%%\n"
    }
   }
  },
  {
   "cell_type": "code",
   "execution_count": 3,
   "outputs": [],
   "source": [
    "def pars(data, colums):\n",
    "    data['Date'] = pd.to_datetime(data[\"Date\"] + \".2019\")\n",
    "    data['Time'] = pd.to_datetime(data['Time']).dt.strftime('%H:%M')\n",
    "    #col = ['Wind Speed', 'Wind Gust','Humidity']\n",
    "    for c in colums:\n",
    "        data[c] = data[c].map(lambda x: x.strip(' mph%'))\n",
    "        data[c] =data[c].astype(int)"
   ],
   "metadata": {
    "collapsed": false,
    "pycharm": {
     "name": "#%%\n"
    }
   }
  },
  {
   "cell_type": "code",
   "execution_count": 4,
   "outputs": [
    {
     "data": {
      "text/plain": "           Date   Time  Temperature  Dew Point  Humidity  Wind  Wind Speed  \\\n0    2019-07-16  00:20           72         57        60   VAR           1   \n1    2019-07-16  00:50           73         57        57     W           3   \n2    2019-07-16  01:20           75         57        53  CALM           0   \n3    2019-07-16  01:50           72         57        60  CALM           0   \n4    2019-07-16  02:20           72         57        60  CALM           0   \n...         ...    ...          ...        ...       ...   ...         ...   \n1375 2019-08-13  21:50           77         50        39   VAR           2   \n1376 2019-08-13  22:20           77         48        36   VAR           1   \n1377 2019-08-13  22:50           73         50        44     N          13   \n1378 2019-08-13  23:20           73         50        44     N           7   \n1379 2019-08-13  23:50           73         50        44   NNW           6   \n\n      Wind Gust  Pressure  Precip.  Precip Accum Condition  \n0             0      29.6        0             0      Fair  \n1             0      29.6        0             0      Fair  \n2             0      29.6        0             0      Fair  \n3             0      29.6        0             0      Fair  \n4             0      29.5        0             0      Fair  \n...         ...       ...      ...           ...       ...  \n1375          0      29.6        0             0      Fair  \n1376          0      29.6        0             0      Fair  \n1377          0      29.6        0             0      Fair  \n1378          0      29.6        0             0      Fair  \n1379          0      29.6        0             0      Fair  \n\n[1380 rows x 12 columns]",
      "text/html": "<div>\n<style scoped>\n    .dataframe tbody tr th:only-of-type {\n        vertical-align: middle;\n    }\n\n    .dataframe tbody tr th {\n        vertical-align: top;\n    }\n\n    .dataframe thead th {\n        text-align: right;\n    }\n</style>\n<table border=\"1\" class=\"dataframe\">\n  <thead>\n    <tr style=\"text-align: right;\">\n      <th></th>\n      <th>Date</th>\n      <th>Time</th>\n      <th>Temperature</th>\n      <th>Dew Point</th>\n      <th>Humidity</th>\n      <th>Wind</th>\n      <th>Wind Speed</th>\n      <th>Wind Gust</th>\n      <th>Pressure</th>\n      <th>Precip.</th>\n      <th>Precip Accum</th>\n      <th>Condition</th>\n    </tr>\n  </thead>\n  <tbody>\n    <tr>\n      <th>0</th>\n      <td>2019-07-16</td>\n      <td>00:20</td>\n      <td>72</td>\n      <td>57</td>\n      <td>60</td>\n      <td>VAR</td>\n      <td>1</td>\n      <td>0</td>\n      <td>29.6</td>\n      <td>0</td>\n      <td>0</td>\n      <td>Fair</td>\n    </tr>\n    <tr>\n      <th>1</th>\n      <td>2019-07-16</td>\n      <td>00:50</td>\n      <td>73</td>\n      <td>57</td>\n      <td>57</td>\n      <td>W</td>\n      <td>3</td>\n      <td>0</td>\n      <td>29.6</td>\n      <td>0</td>\n      <td>0</td>\n      <td>Fair</td>\n    </tr>\n    <tr>\n      <th>2</th>\n      <td>2019-07-16</td>\n      <td>01:20</td>\n      <td>75</td>\n      <td>57</td>\n      <td>53</td>\n      <td>CALM</td>\n      <td>0</td>\n      <td>0</td>\n      <td>29.6</td>\n      <td>0</td>\n      <td>0</td>\n      <td>Fair</td>\n    </tr>\n    <tr>\n      <th>3</th>\n      <td>2019-07-16</td>\n      <td>01:50</td>\n      <td>72</td>\n      <td>57</td>\n      <td>60</td>\n      <td>CALM</td>\n      <td>0</td>\n      <td>0</td>\n      <td>29.6</td>\n      <td>0</td>\n      <td>0</td>\n      <td>Fair</td>\n    </tr>\n    <tr>\n      <th>4</th>\n      <td>2019-07-16</td>\n      <td>02:20</td>\n      <td>72</td>\n      <td>57</td>\n      <td>60</td>\n      <td>CALM</td>\n      <td>0</td>\n      <td>0</td>\n      <td>29.5</td>\n      <td>0</td>\n      <td>0</td>\n      <td>Fair</td>\n    </tr>\n    <tr>\n      <th>...</th>\n      <td>...</td>\n      <td>...</td>\n      <td>...</td>\n      <td>...</td>\n      <td>...</td>\n      <td>...</td>\n      <td>...</td>\n      <td>...</td>\n      <td>...</td>\n      <td>...</td>\n      <td>...</td>\n      <td>...</td>\n    </tr>\n    <tr>\n      <th>1375</th>\n      <td>2019-08-13</td>\n      <td>21:50</td>\n      <td>77</td>\n      <td>50</td>\n      <td>39</td>\n      <td>VAR</td>\n      <td>2</td>\n      <td>0</td>\n      <td>29.6</td>\n      <td>0</td>\n      <td>0</td>\n      <td>Fair</td>\n    </tr>\n    <tr>\n      <th>1376</th>\n      <td>2019-08-13</td>\n      <td>22:20</td>\n      <td>77</td>\n      <td>48</td>\n      <td>36</td>\n      <td>VAR</td>\n      <td>1</td>\n      <td>0</td>\n      <td>29.6</td>\n      <td>0</td>\n      <td>0</td>\n      <td>Fair</td>\n    </tr>\n    <tr>\n      <th>1377</th>\n      <td>2019-08-13</td>\n      <td>22:50</td>\n      <td>73</td>\n      <td>50</td>\n      <td>44</td>\n      <td>N</td>\n      <td>13</td>\n      <td>0</td>\n      <td>29.6</td>\n      <td>0</td>\n      <td>0</td>\n      <td>Fair</td>\n    </tr>\n    <tr>\n      <th>1378</th>\n      <td>2019-08-13</td>\n      <td>23:20</td>\n      <td>73</td>\n      <td>50</td>\n      <td>44</td>\n      <td>N</td>\n      <td>7</td>\n      <td>0</td>\n      <td>29.6</td>\n      <td>0</td>\n      <td>0</td>\n      <td>Fair</td>\n    </tr>\n    <tr>\n      <th>1379</th>\n      <td>2019-08-13</td>\n      <td>23:50</td>\n      <td>73</td>\n      <td>50</td>\n      <td>44</td>\n      <td>NNW</td>\n      <td>6</td>\n      <td>0</td>\n      <td>29.6</td>\n      <td>0</td>\n      <td>0</td>\n      <td>Fair</td>\n    </tr>\n  </tbody>\n</table>\n<p>1380 rows × 12 columns</p>\n</div>"
     },
     "execution_count": 4,
     "metadata": {},
     "output_type": "execute_result"
    }
   ],
   "source": [
    "colums = ['Wind Speed', 'Wind Gust','Humidity']\n",
    "pars(data, colums)\n",
    "data"
   ],
   "metadata": {
    "collapsed": false,
    "pycharm": {
     "name": "#%%\n"
    }
   }
  },
  {
   "cell_type": "code",
   "execution_count": 5,
   "outputs": [
    {
     "data": {
      "text/plain": "             Time  Temperature  Dew Point  Humidity  Wind  Wind Speed  \\\nDate                                                                    \n2019-07-16  00:20           72         57        60   VAR           1   \n2019-07-16  00:50           73         57        57     W           3   \n2019-07-16  01:20           75         57        53  CALM           0   \n2019-07-16  01:50           72         57        60  CALM           0   \n2019-07-16  02:20           72         57        60  CALM           0   \n...           ...          ...        ...       ...   ...         ...   \n2019-08-13  21:50           77         50        39   VAR           2   \n2019-08-13  22:20           77         48        36   VAR           1   \n2019-08-13  22:50           73         50        44     N          13   \n2019-08-13  23:20           73         50        44     N           7   \n2019-08-13  23:50           73         50        44   NNW           6   \n\n            Wind Gust  Pressure  Precip.  Precip Accum Condition  \nDate                                                              \n2019-07-16          0      29.6        0             0      Fair  \n2019-07-16          0      29.6        0             0      Fair  \n2019-07-16          0      29.6        0             0      Fair  \n2019-07-16          0      29.6        0             0      Fair  \n2019-07-16          0      29.5        0             0      Fair  \n...               ...       ...      ...           ...       ...  \n2019-08-13          0      29.6        0             0      Fair  \n2019-08-13          0      29.6        0             0      Fair  \n2019-08-13          0      29.6        0             0      Fair  \n2019-08-13          0      29.6        0             0      Fair  \n2019-08-13          0      29.6        0             0      Fair  \n\n[1380 rows x 11 columns]",
      "text/html": "<div>\n<style scoped>\n    .dataframe tbody tr th:only-of-type {\n        vertical-align: middle;\n    }\n\n    .dataframe tbody tr th {\n        vertical-align: top;\n    }\n\n    .dataframe thead th {\n        text-align: right;\n    }\n</style>\n<table border=\"1\" class=\"dataframe\">\n  <thead>\n    <tr style=\"text-align: right;\">\n      <th></th>\n      <th>Time</th>\n      <th>Temperature</th>\n      <th>Dew Point</th>\n      <th>Humidity</th>\n      <th>Wind</th>\n      <th>Wind Speed</th>\n      <th>Wind Gust</th>\n      <th>Pressure</th>\n      <th>Precip.</th>\n      <th>Precip Accum</th>\n      <th>Condition</th>\n    </tr>\n    <tr>\n      <th>Date</th>\n      <th></th>\n      <th></th>\n      <th></th>\n      <th></th>\n      <th></th>\n      <th></th>\n      <th></th>\n      <th></th>\n      <th></th>\n      <th></th>\n      <th></th>\n    </tr>\n  </thead>\n  <tbody>\n    <tr>\n      <th>2019-07-16</th>\n      <td>00:20</td>\n      <td>72</td>\n      <td>57</td>\n      <td>60</td>\n      <td>VAR</td>\n      <td>1</td>\n      <td>0</td>\n      <td>29.6</td>\n      <td>0</td>\n      <td>0</td>\n      <td>Fair</td>\n    </tr>\n    <tr>\n      <th>2019-07-16</th>\n      <td>00:50</td>\n      <td>73</td>\n      <td>57</td>\n      <td>57</td>\n      <td>W</td>\n      <td>3</td>\n      <td>0</td>\n      <td>29.6</td>\n      <td>0</td>\n      <td>0</td>\n      <td>Fair</td>\n    </tr>\n    <tr>\n      <th>2019-07-16</th>\n      <td>01:20</td>\n      <td>75</td>\n      <td>57</td>\n      <td>53</td>\n      <td>CALM</td>\n      <td>0</td>\n      <td>0</td>\n      <td>29.6</td>\n      <td>0</td>\n      <td>0</td>\n      <td>Fair</td>\n    </tr>\n    <tr>\n      <th>2019-07-16</th>\n      <td>01:50</td>\n      <td>72</td>\n      <td>57</td>\n      <td>60</td>\n      <td>CALM</td>\n      <td>0</td>\n      <td>0</td>\n      <td>29.6</td>\n      <td>0</td>\n      <td>0</td>\n      <td>Fair</td>\n    </tr>\n    <tr>\n      <th>2019-07-16</th>\n      <td>02:20</td>\n      <td>72</td>\n      <td>57</td>\n      <td>60</td>\n      <td>CALM</td>\n      <td>0</td>\n      <td>0</td>\n      <td>29.5</td>\n      <td>0</td>\n      <td>0</td>\n      <td>Fair</td>\n    </tr>\n    <tr>\n      <th>...</th>\n      <td>...</td>\n      <td>...</td>\n      <td>...</td>\n      <td>...</td>\n      <td>...</td>\n      <td>...</td>\n      <td>...</td>\n      <td>...</td>\n      <td>...</td>\n      <td>...</td>\n      <td>...</td>\n    </tr>\n    <tr>\n      <th>2019-08-13</th>\n      <td>21:50</td>\n      <td>77</td>\n      <td>50</td>\n      <td>39</td>\n      <td>VAR</td>\n      <td>2</td>\n      <td>0</td>\n      <td>29.6</td>\n      <td>0</td>\n      <td>0</td>\n      <td>Fair</td>\n    </tr>\n    <tr>\n      <th>2019-08-13</th>\n      <td>22:20</td>\n      <td>77</td>\n      <td>48</td>\n      <td>36</td>\n      <td>VAR</td>\n      <td>1</td>\n      <td>0</td>\n      <td>29.6</td>\n      <td>0</td>\n      <td>0</td>\n      <td>Fair</td>\n    </tr>\n    <tr>\n      <th>2019-08-13</th>\n      <td>22:50</td>\n      <td>73</td>\n      <td>50</td>\n      <td>44</td>\n      <td>N</td>\n      <td>13</td>\n      <td>0</td>\n      <td>29.6</td>\n      <td>0</td>\n      <td>0</td>\n      <td>Fair</td>\n    </tr>\n    <tr>\n      <th>2019-08-13</th>\n      <td>23:20</td>\n      <td>73</td>\n      <td>50</td>\n      <td>44</td>\n      <td>N</td>\n      <td>7</td>\n      <td>0</td>\n      <td>29.6</td>\n      <td>0</td>\n      <td>0</td>\n      <td>Fair</td>\n    </tr>\n    <tr>\n      <th>2019-08-13</th>\n      <td>23:50</td>\n      <td>73</td>\n      <td>50</td>\n      <td>44</td>\n      <td>NNW</td>\n      <td>6</td>\n      <td>0</td>\n      <td>29.6</td>\n      <td>0</td>\n      <td>0</td>\n      <td>Fair</td>\n    </tr>\n  </tbody>\n</table>\n<p>1380 rows × 11 columns</p>\n</div>"
     },
     "execution_count": 5,
     "metadata": {},
     "output_type": "execute_result"
    }
   ],
   "source": [
    "data.set_index('Date')"
   ],
   "metadata": {
    "collapsed": false,
    "pycharm": {
     "name": "#%%\n"
    }
   }
  },
  {
   "cell_type": "code",
   "execution_count": 6,
   "outputs": [
    {
     "data": {
      "text/plain": "           Date   Time  Temperature  Dew Point  Humidity  Wind  Wind Speed  \\\n0    2019-07-16  00:20           72         57        60   VAR           1   \n1    2019-07-16  00:50           73         57        57     W           3   \n2    2019-07-16  01:20           75         57        53  CALM           0   \n3    2019-07-16  01:50           72         57        60  CALM           0   \n4    2019-07-16  02:20           72         57        60  CALM           0   \n...         ...    ...          ...        ...       ...   ...         ...   \n1375 2019-08-13  21:50           77         50        39   VAR           2   \n1376 2019-08-13  22:20           77         48        36   VAR           1   \n1377 2019-08-13  22:50           73         50        44     N          13   \n1378 2019-08-13  23:20           73         50        44     N           7   \n1379 2019-08-13  23:50           73         50        44   NNW           6   \n\n      Wind Gust  Pressure  Precip.  Precip Accum Condition  \n0             0      29.6        0             0      Fair  \n1             0      29.6        0             0      Fair  \n2             0      29.6        0             0      Fair  \n3             0      29.6        0             0      Fair  \n4             0      29.5        0             0      Fair  \n...         ...       ...      ...           ...       ...  \n1375          0      29.6        0             0      Fair  \n1376          0      29.6        0             0      Fair  \n1377          0      29.6        0             0      Fair  \n1378          0      29.6        0             0      Fair  \n1379          0      29.6        0             0      Fair  \n\n[1380 rows x 12 columns]",
      "text/html": "<div>\n<style scoped>\n    .dataframe tbody tr th:only-of-type {\n        vertical-align: middle;\n    }\n\n    .dataframe tbody tr th {\n        vertical-align: top;\n    }\n\n    .dataframe thead th {\n        text-align: right;\n    }\n</style>\n<table border=\"1\" class=\"dataframe\">\n  <thead>\n    <tr style=\"text-align: right;\">\n      <th></th>\n      <th>Date</th>\n      <th>Time</th>\n      <th>Temperature</th>\n      <th>Dew Point</th>\n      <th>Humidity</th>\n      <th>Wind</th>\n      <th>Wind Speed</th>\n      <th>Wind Gust</th>\n      <th>Pressure</th>\n      <th>Precip.</th>\n      <th>Precip Accum</th>\n      <th>Condition</th>\n    </tr>\n  </thead>\n  <tbody>\n    <tr>\n      <th>0</th>\n      <td>2019-07-16</td>\n      <td>00:20</td>\n      <td>72</td>\n      <td>57</td>\n      <td>60</td>\n      <td>VAR</td>\n      <td>1</td>\n      <td>0</td>\n      <td>29.6</td>\n      <td>0</td>\n      <td>0</td>\n      <td>Fair</td>\n    </tr>\n    <tr>\n      <th>1</th>\n      <td>2019-07-16</td>\n      <td>00:50</td>\n      <td>73</td>\n      <td>57</td>\n      <td>57</td>\n      <td>W</td>\n      <td>3</td>\n      <td>0</td>\n      <td>29.6</td>\n      <td>0</td>\n      <td>0</td>\n      <td>Fair</td>\n    </tr>\n    <tr>\n      <th>2</th>\n      <td>2019-07-16</td>\n      <td>01:20</td>\n      <td>75</td>\n      <td>57</td>\n      <td>53</td>\n      <td>CALM</td>\n      <td>0</td>\n      <td>0</td>\n      <td>29.6</td>\n      <td>0</td>\n      <td>0</td>\n      <td>Fair</td>\n    </tr>\n    <tr>\n      <th>3</th>\n      <td>2019-07-16</td>\n      <td>01:50</td>\n      <td>72</td>\n      <td>57</td>\n      <td>60</td>\n      <td>CALM</td>\n      <td>0</td>\n      <td>0</td>\n      <td>29.6</td>\n      <td>0</td>\n      <td>0</td>\n      <td>Fair</td>\n    </tr>\n    <tr>\n      <th>4</th>\n      <td>2019-07-16</td>\n      <td>02:20</td>\n      <td>72</td>\n      <td>57</td>\n      <td>60</td>\n      <td>CALM</td>\n      <td>0</td>\n      <td>0</td>\n      <td>29.5</td>\n      <td>0</td>\n      <td>0</td>\n      <td>Fair</td>\n    </tr>\n    <tr>\n      <th>...</th>\n      <td>...</td>\n      <td>...</td>\n      <td>...</td>\n      <td>...</td>\n      <td>...</td>\n      <td>...</td>\n      <td>...</td>\n      <td>...</td>\n      <td>...</td>\n      <td>...</td>\n      <td>...</td>\n      <td>...</td>\n    </tr>\n    <tr>\n      <th>1375</th>\n      <td>2019-08-13</td>\n      <td>21:50</td>\n      <td>77</td>\n      <td>50</td>\n      <td>39</td>\n      <td>VAR</td>\n      <td>2</td>\n      <td>0</td>\n      <td>29.6</td>\n      <td>0</td>\n      <td>0</td>\n      <td>Fair</td>\n    </tr>\n    <tr>\n      <th>1376</th>\n      <td>2019-08-13</td>\n      <td>22:20</td>\n      <td>77</td>\n      <td>48</td>\n      <td>36</td>\n      <td>VAR</td>\n      <td>1</td>\n      <td>0</td>\n      <td>29.6</td>\n      <td>0</td>\n      <td>0</td>\n      <td>Fair</td>\n    </tr>\n    <tr>\n      <th>1377</th>\n      <td>2019-08-13</td>\n      <td>22:50</td>\n      <td>73</td>\n      <td>50</td>\n      <td>44</td>\n      <td>N</td>\n      <td>13</td>\n      <td>0</td>\n      <td>29.6</td>\n      <td>0</td>\n      <td>0</td>\n      <td>Fair</td>\n    </tr>\n    <tr>\n      <th>1378</th>\n      <td>2019-08-13</td>\n      <td>23:20</td>\n      <td>73</td>\n      <td>50</td>\n      <td>44</td>\n      <td>N</td>\n      <td>7</td>\n      <td>0</td>\n      <td>29.6</td>\n      <td>0</td>\n      <td>0</td>\n      <td>Fair</td>\n    </tr>\n    <tr>\n      <th>1379</th>\n      <td>2019-08-13</td>\n      <td>23:50</td>\n      <td>73</td>\n      <td>50</td>\n      <td>44</td>\n      <td>NNW</td>\n      <td>6</td>\n      <td>0</td>\n      <td>29.6</td>\n      <td>0</td>\n      <td>0</td>\n      <td>Fair</td>\n    </tr>\n  </tbody>\n</table>\n<p>1380 rows × 12 columns</p>\n</div>"
     },
     "execution_count": 6,
     "metadata": {},
     "output_type": "execute_result"
    }
   ],
   "source": [
    "data['Pressure'] = data['Pressure'].astype(float)\n",
    "data"
   ],
   "metadata": {
    "collapsed": false,
    "pycharm": {
     "name": "#%%\n"
    }
   }
  },
  {
   "cell_type": "code",
   "execution_count": 17,
   "outputs": [],
   "source": [
    "def wind_speed():\n",
    "    fig, ax = plt.subplots()\n",
    "    ax.set_xlabel('Wind Speed')\n",
    "    ax.set_ylabel('Wind Gust')\n",
    "    ax.set_title('Wind')\n",
    "    ax.broken_barh([(7,7),(18,0)],(18,7), facecolors = 'tab:green', alpha = 0.5, label = 'optimal wind')\n",
    "    ax.scatter(data['Wind Speed'], data['Wind Gust'], label = 'conditions')\n",
    "    ax.legend()"
   ],
   "metadata": {
    "collapsed": false,
    "pycharm": {
     "name": "#%% візуалізація стабільного і поривчастого вітру,виділенння оптимально вітру для польотів\n"
    }
   }
  },
  {
   "cell_type": "code",
   "execution_count": 8,
   "outputs": [],
   "source": [
    "def max_min_t():\n",
    "    t_max = data.groupby('Date').agg({'Temperature':'max'})\n",
    "    t_min = data.groupby('Date').agg({'Temperature':'min'})\n",
    "    col = [t_max, t_min]\n",
    "    fig, ax = plt.subplots()\n",
    "    ax.plot(t_max, color = 'red', label = 'Max temperatures')\n",
    "    ax.plot(t_min, color = 'blue', label = 'Min temperatures')\n",
    "    ax.set_title('Max and Min temperature of the day')\n",
    "    ax.set_xlabel('Dates')\n",
    "    ax.set_ylabel('Temperature')\n",
    "    ax.legend()"
   ],
   "metadata": {
    "collapsed": false,
    "pycharm": {
     "name": "#%% максимальна і мінімальна температура\n"
    }
   }
  },
  {
   "cell_type": "code",
   "execution_count": 9,
   "outputs": [],
   "source": [
    "def comp():\n",
    "    col2 = [data['Temperature'], data['Dew Point'], data['Humidity'], data['Pressure'], data['Precip.'], data['Precip Accum']]\n",
    "    vol = data.groupby('Date').agg({'Temperature':'max', 'Dew Point':'max', 'Humidity':'max', 'Pressure':'max', 'Precip.':'max', 'Precip Accum':'min'})\n",
    "    vol.plot.bar(colormap='Blues')\n"
   ],
   "metadata": {
    "collapsed": false,
    "pycharm": {
     "name": "#%%\n"
    }
   }
  },
  {
   "cell_type": "code",
   "execution_count": 10,
   "outputs": [],
   "source": [
    "def comp2():\n",
    "    gr = data.groupby('Date').agg({'Temperature':'max','Dew Point':'max','Humidity':'max','Pressure':'max','Precip.':'max','Precip Accum':'max'})\n",
    "    ax = gr.plot.bar(rot=0)\n",
    "    ax.title('Порівння вимірів')\n",
    "    ax.set_xlabel('Date')"
   ],
   "metadata": {
    "collapsed": false,
    "pycharm": {
     "name": "#%%\n"
    }
   }
  },
  {
   "cell_type": "code",
   "execution_count": 11,
   "outputs": [],
   "source": [
    "def wind():\n",
    "    w = data.groupby('Wind').agg({'Wind':'count'})\n",
    "    ax = w.plot.bar(color = 'orange')\n",
    "    ax.set_title('Wind')\n",
    "    ax.set_ylabel('frequency')"
   ],
   "metadata": {
    "collapsed": false,
    "pycharm": {
     "name": "#%%\n"
    }
   }
  },
  {
   "cell_type": "code",
   "execution_count": 12,
   "outputs": [],
   "source": [
    "def conditions():\n",
    "    cond = data.groupby('Condition').agg({'Condition':'count'})\n",
    "    cond.plot.pie(y = 'Condition', figsize = (10,10))"
   ],
   "metadata": {
    "collapsed": false,
    "pycharm": {
     "name": "#%%\n"
    }
   }
  },
  {
   "cell_type": "code",
   "execution_count": 13,
   "outputs": [],
   "source": [
    "def oun():\n",
    "    print('Графік яких даних вивести?\\n'\n",
    "          '1 - Temperature\\n'\n",
    "          '2 - Dew Point\\n'\n",
    "          '3 - Humidity\\n'\n",
    "          '4 - Pressure\\n'\n",
    "          '5 - Precip.\\n'\n",
    "          '6 - Precip Accum'\n",
    "          '7 - Wind Speed\\n'\n",
    "          '8 - Wind Gust')\n",
    "    t = int(input())\n",
    "    print(\"What values find?\\n Enter 'min', 'max' or 'mean'\")\n",
    "    a = input()\n",
    "    temp = 'Temperature'\n",
    "    if t == 1:\n",
    "        temp = 'Temperature'\n",
    "    elif t == 2:\n",
    "        temp = 'Dew Point'\n",
    "    elif t == 3:\n",
    "        temp = 'Humidity'\n",
    "    elif t == 4:\n",
    "        temp = 'Pressure'\n",
    "    elif t == 5:\n",
    "        temp = 'Precip.'\n",
    "    elif t == 6:\n",
    "        temp = 'Precip Accum'\n",
    "    elif t == 7:\n",
    "        temp = 'Wind Speed'\n",
    "    elif t == 8:\n",
    "        temp = 'Wind Gust'\n",
    "    vol = data.groupby('Date').agg({temp:a})\n",
    "    fig, ax = plt.subplots()\n",
    "    ax.plot(vol, color = 'red')"
   ],
   "metadata": {
    "collapsed": false,
    "pycharm": {
     "name": "#%%\n"
    }
   }
  },
  {
   "cell_type": "code",
   "execution_count": 16,
   "outputs": [
    {
     "name": "stdout",
     "output_type": "stream",
     "text": [
      "Який графік вивести?\n",
      "1 - візуалізація швидкості стабільного та поривчастого вітру, виділення комфортних для польотів днів.\n",
      "2 - графіки максимальної та мінімальної температури по днях\n",
      "3 - Порівняння різних взаємозалежних вимірів\n",
      "4 - гістограма частоти вітрів\n",
      "5 - Порівняння різних взаємозалежних вимірів 2\n",
      "6 - Кругова діаграма погодних умов\n",
      "7 - Власний графік\n"
     ]
    },
    {
     "ename": "TypeError",
     "evalue": "'Text' object is not callable",
     "output_type": "error",
     "traceback": [
      "\u001B[0;31m---------------------------------------------------------------------------\u001B[0m",
      "\u001B[0;31mTypeError\u001B[0m                                 Traceback (most recent call last)",
      "\u001B[0;32m<ipython-input-16-e836d2208226>\u001B[0m in \u001B[0;36m<module>\u001B[0;34m\u001B[0m\n\u001B[1;32m     17\u001B[0m     \u001B[0mwind\u001B[0m\u001B[0;34m(\u001B[0m\u001B[0;34m)\u001B[0m\u001B[0;34m\u001B[0m\u001B[0;34m\u001B[0m\u001B[0m\n\u001B[1;32m     18\u001B[0m \u001B[0;32melif\u001B[0m \u001B[0mb\u001B[0m \u001B[0;34m==\u001B[0m \u001B[0;36m5\u001B[0m\u001B[0;34m:\u001B[0m\u001B[0;34m\u001B[0m\u001B[0;34m\u001B[0m\u001B[0m\n\u001B[0;32m---> 19\u001B[0;31m     \u001B[0mcomp2\u001B[0m\u001B[0;34m(\u001B[0m\u001B[0;34m)\u001B[0m\u001B[0;34m\u001B[0m\u001B[0;34m\u001B[0m\u001B[0m\n\u001B[0m\u001B[1;32m     20\u001B[0m \u001B[0;32melif\u001B[0m \u001B[0mb\u001B[0m \u001B[0;34m==\u001B[0m \u001B[0;36m6\u001B[0m\u001B[0;34m:\u001B[0m\u001B[0;34m\u001B[0m\u001B[0;34m\u001B[0m\u001B[0m\n\u001B[1;32m     21\u001B[0m     \u001B[0mconditions\u001B[0m\u001B[0;34m(\u001B[0m\u001B[0;34m)\u001B[0m\u001B[0;34m\u001B[0m\u001B[0;34m\u001B[0m\u001B[0m\n",
      "\u001B[0;32m<ipython-input-10-dae16b29399d>\u001B[0m in \u001B[0;36mcomp2\u001B[0;34m()\u001B[0m\n\u001B[1;32m      2\u001B[0m     \u001B[0mgr\u001B[0m \u001B[0;34m=\u001B[0m \u001B[0mdata\u001B[0m\u001B[0;34m.\u001B[0m\u001B[0mgroupby\u001B[0m\u001B[0;34m(\u001B[0m\u001B[0;34m'Date'\u001B[0m\u001B[0;34m)\u001B[0m\u001B[0;34m.\u001B[0m\u001B[0magg\u001B[0m\u001B[0;34m(\u001B[0m\u001B[0;34m{\u001B[0m\u001B[0;34m'Temperature'\u001B[0m\u001B[0;34m:\u001B[0m\u001B[0;34m'max'\u001B[0m\u001B[0;34m,\u001B[0m\u001B[0;34m'Dew Point'\u001B[0m\u001B[0;34m:\u001B[0m\u001B[0;34m'max'\u001B[0m\u001B[0;34m,\u001B[0m\u001B[0;34m'Humidity'\u001B[0m\u001B[0;34m:\u001B[0m\u001B[0;34m'max'\u001B[0m\u001B[0;34m,\u001B[0m\u001B[0;34m'Pressure'\u001B[0m\u001B[0;34m:\u001B[0m\u001B[0;34m'max'\u001B[0m\u001B[0;34m,\u001B[0m\u001B[0;34m'Precip.'\u001B[0m\u001B[0;34m:\u001B[0m\u001B[0;34m'max'\u001B[0m\u001B[0;34m,\u001B[0m\u001B[0;34m'Precip Accum'\u001B[0m\u001B[0;34m:\u001B[0m\u001B[0;34m'max'\u001B[0m\u001B[0;34m}\u001B[0m\u001B[0;34m)\u001B[0m\u001B[0;34m\u001B[0m\u001B[0;34m\u001B[0m\u001B[0m\n\u001B[1;32m      3\u001B[0m     \u001B[0max\u001B[0m \u001B[0;34m=\u001B[0m \u001B[0mgr\u001B[0m\u001B[0;34m.\u001B[0m\u001B[0mplot\u001B[0m\u001B[0;34m.\u001B[0m\u001B[0mbar\u001B[0m\u001B[0;34m(\u001B[0m\u001B[0mrot\u001B[0m\u001B[0;34m=\u001B[0m\u001B[0;36m0\u001B[0m\u001B[0;34m)\u001B[0m\u001B[0;34m\u001B[0m\u001B[0;34m\u001B[0m\u001B[0m\n\u001B[0;32m----> 4\u001B[0;31m     \u001B[0max\u001B[0m\u001B[0;34m.\u001B[0m\u001B[0mtitle\u001B[0m\u001B[0;34m(\u001B[0m\u001B[0;34m'Порівння вимірів'\u001B[0m\u001B[0;34m)\u001B[0m\u001B[0;34m\u001B[0m\u001B[0;34m\u001B[0m\u001B[0m\n\u001B[0m\u001B[1;32m      5\u001B[0m     \u001B[0max\u001B[0m\u001B[0;34m.\u001B[0m\u001B[0mset_xlabel\u001B[0m\u001B[0;34m(\u001B[0m\u001B[0;34m'Date'\u001B[0m\u001B[0;34m)\u001B[0m\u001B[0;34m\u001B[0m\u001B[0;34m\u001B[0m\u001B[0m\n\u001B[1;32m      6\u001B[0m \u001B[0;34m\u001B[0m\u001B[0m\n",
      "\u001B[0;31mTypeError\u001B[0m: 'Text' object is not callable"
     ]
    },
    {
     "data": {
      "text/plain": "<Figure size 432x288 with 1 Axes>",
      "image/png": "[encoded data removed]"
     },
     "metadata": {
      "needs_background": "light"
     },
     "output_type": "display_data"
    }
   ],
   "source": [
    "print('Який графік вивести?\\n'\n",
    "      '1 - візуалізація швидкості стабільного та поривчастого вітру, виділення комфортних для польотів днів.\\n'\n",
    "      '2 - графіки максимальної та мінімальної температури по днях\\n'\n",
    "      '3 - Порівняння різних взаємозалежних вимірів\\n'\n",
    "      '4 - гістограма частоти вітрів\\n'\n",
    "      '5 - Порівняння різних взаємозалежних вимірів 2\\n'\n",
    "      '6 - Кругова діаграма погодних умов\\n'\n",
    "      '7 - Власний графік')\n",
    "b = int(input())\n",
    "if b == 1:\n",
    "    wind_speed()\n",
    "elif b == 2:\n",
    "    max_min_t()\n",
    "elif b == 3:\n",
    "    comp()\n",
    "elif b == 4:\n",
    "    wind()\n",
    "elif b == 5:\n",
    "    comp2()\n",
    "elif b == 6:\n",
    "    conditions()\n",
    "elif b == 7:\n",
    "    oun()\n",
    "else:\n",
    "    print('Ви ввели неправильний номер. Спробуйте ще.')\n",
    "    b = int(input())\n",
    "\n"
   ],
   "metadata": {
    "collapsed": false,
    "pycharm": {
     "name": "#%%\n"
    }
   }
  }
 ],
 "metadata": {
  "kernelspec": {
   "display_name": "Python 3",
   "language": "python",
   "name": "python3"
  },
  "language_info": {
   "codemirror_mode": {
    "name": "ipython",
    "version": 2
   },
   "file_extension": ".py",
   "mimetype": "text/x-python",
   "name": "python",
   "nbconvert_exporter": "python",
   "pygments_lexer": "ipython2",
   "version": "2.7.6"
  }
 },
 "nbformat": 4,
 "nbformat_minor": 0
}